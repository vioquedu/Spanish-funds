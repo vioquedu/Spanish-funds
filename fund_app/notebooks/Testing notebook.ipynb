{
 "cells": [
  {
   "cell_type": "markdown",
   "metadata": {},
   "source": [
    "# Testing notebook\n",
    "\n",
    "This notebooks is only used to test code and functions."
   ]
  },
  {
   "cell_type": "code",
   "execution_count": 18,
   "metadata": {},
   "outputs": [
    {
     "name": "stdout",
     "output_type": "stream",
     "text": [
      "The autoreload extension is already loaded. To reload it, use:\n",
      "  %reload_ext autoreload\n"
     ]
    }
   ],
   "source": [
    "%load_ext autoreload\n",
    "%autoreload 2\n",
    "import os\n",
    "import sys\n",
    "sys.path.insert(0, os.path.abspath('..'))"
   ]
  },
  {
   "cell_type": "code",
   "execution_count": 19,
   "metadata": {},
   "outputs": [],
   "source": [
    "import sqlalchemy as sa\n",
    "from settings import session_scope\n",
    "from data_model.creates import CreateFirm, CreateFund\n",
    "from data_model.updates import UpdateFund\n",
    "from data_model.tables import Firm, Fund"
   ]
  },
  {
   "cell_type": "markdown",
   "metadata": {},
   "source": [
    "## COBAS"
   ]
  },
  {
   "cell_type": "code",
   "execution_count": 23,
   "metadata": {},
   "outputs": [],
   "source": [
    "cobas_fund = [{'name': 'Cobas Selección FI', 'firm_id': 6, 'isin_code': 'ES0124037005', 'id': 4},\n",
    "             {'name': 'Cobas Internacional FI', 'firm_id': 6, 'isin_code': 'ES0119199000', 'id': 5},\n",
    "             {'name': 'Cobas Iberia FI', 'firm_id': 6, 'isin_code': 'ES0119184002', 'id': 6},\n",
    "             {'name': 'Cobas Grandes Compañías FI', 'firm_id': 6, 'isin_code': 'ES0113728002', 'id': 7}]"
   ]
  },
  {
   "cell_type": "code",
   "execution_count": 24,
   "metadata": {},
   "outputs": [],
   "source": [
    "cobas_update = UpdateFund({}, cobas_fund)"
   ]
  },
  {
   "cell_type": "code",
   "execution_count": 25,
   "metadata": {
    "scrolled": true
   },
   "outputs": [],
   "source": [
    "cobas_update.update_elements_list()"
   ]
  },
  {
   "cell_type": "code",
   "execution_count": 11,
   "metadata": {},
   "outputs": [
    {
     "data": {
      "text/plain": [
       "<sqlalchemy.orm.attributes.InstrumentedAttribute at 0x7f395a21ac50>"
      ]
     },
     "execution_count": 11,
     "metadata": {},
     "output_type": "execute_result"
    }
   ],
   "source": [
    "cobas_update.sqlalchemy_class.id"
   ]
  },
  {
   "cell_type": "markdown",
   "metadata": {},
   "source": [
    "## Bestinver"
   ]
  },
  {
   "cell_type": "code",
   "execution_count": 26,
   "metadata": {
    "collapsed": true
   },
   "outputs": [],
   "source": [
    "bestinver_funds = [\n",
    "    {'name': 'Bestinfond FI', 'firm_id': 1, 'isin_code': 'ES0114673033', 'id': 8}\n",
    "    ,{'name': 'Bestinver Internacional FI', 'firm_id': 1, 'isin_code': 'ES0114638036', 'id': 9}\n",
    "    ,{'name': 'Bestinver Bolsa FI', 'firm_id': 1, 'isin_code': 'ES0147622031', 'id': 10}\n",
    "    ,{'name': 'Bestinver Grandes Compañías FI', 'firm_id': 1, 'isin_code': 'ES0114561006', 'id': 11}\n",
    "]"
   ]
  },
  {
   "cell_type": "code",
   "execution_count": 27,
   "metadata": {
    "collapsed": true
   },
   "outputs": [],
   "source": [
    "bestinver_update = UpdateFund({}, bestinver_funds)"
   ]
  },
  {
   "cell_type": "code",
   "execution_count": 28,
   "metadata": {},
   "outputs": [],
   "source": [
    "bestinver_update.update_elements_list()"
   ]
  },
  {
   "cell_type": "code",
   "execution_count": null,
   "metadata": {
    "collapsed": true
   },
   "outputs": [],
   "source": [
    "fund = CreateFund({}, bestinver_funds)"
   ]
  },
  {
   "cell_type": "code",
   "execution_count": null,
   "metadata": {
    "collapsed": true
   },
   "outputs": [],
   "source": [
    "fund.create_elements_list()"
   ]
  },
  {
   "cell_type": "markdown",
   "metadata": {},
   "source": [
    "## AZ Valor"
   ]
  },
  {
   "cell_type": "code",
   "execution_count": 29,
   "metadata": {
    "collapsed": true
   },
   "outputs": [],
   "source": [
    "az_valor_funds = [\n",
    "      {'name': 'AZValor Iberia FI', 'firm_id': 5, 'isin_code': 'ES0112616000', 'id': 2}\n",
    "    ,{'name': 'AZValor Internacional FI', 'firm_id': 5, 'isin_code': 'ES0112611001', 'id': 1}\n",
    "    ,{'name': 'AZValor Blue Chips FI', 'firm_id': 5, 'isin_code': 'ES0112609005', 'id': 3}\n",
    "]"
   ]
  },
  {
   "cell_type": "code",
   "execution_count": 30,
   "metadata": {
    "collapsed": true
   },
   "outputs": [],
   "source": [
    "azvalor_update = UpdateFund({}, az_valor_funds)"
   ]
  },
  {
   "cell_type": "code",
   "execution_count": 31,
   "metadata": {
    "collapsed": true
   },
   "outputs": [],
   "source": [
    "azvalor_update.update_elements_list()"
   ]
  },
  {
   "cell_type": "code",
   "execution_count": null,
   "metadata": {},
   "outputs": [],
   "source": [
    "with session_scope() as s:\n",
    "    q = s.query(Fund).all()\n",
    "    for f in q:\n",
    "        print(f)"
   ]
  },
  {
   "cell_type": "code",
   "execution_count": null,
   "metadata": {
    "scrolled": true
   },
   "outputs": [],
   "source": [
    "with session_scope() as s:\n",
    "    q = s.query(Firm).filter(Firm.name=='AZ Valor').one()\n",
    "    print(q.id)"
   ]
  },
  {
   "cell_type": "code",
   "execution_count": 10,
   "metadata": {},
   "outputs": [],
   "source": [
    "with session_scope() as s:\n",
    "    q = s.query(Fund).filter(Fund.id==1).one()\n",
    "    \n",
    "    #q.name = 'AZ Valor Internacional FI'"
   ]
  }
 ],
 "metadata": {
  "kernelspec": {
   "display_name": "Python 3",
   "language": "python",
   "name": "python3"
  },
  "language_info": {
   "codemirror_mode": {
    "name": "ipython",
    "version": 3
   },
   "file_extension": ".py",
   "mimetype": "text/x-python",
   "name": "python",
   "nbconvert_exporter": "python",
   "pygments_lexer": "ipython3",
   "version": "3.5.0"
  }
 },
 "nbformat": 4,
 "nbformat_minor": 2
}
