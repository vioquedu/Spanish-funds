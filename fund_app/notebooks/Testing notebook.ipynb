{
 "cells": [
  {
   "cell_type": "markdown",
   "metadata": {},
   "source": [
    "# Testing notebook\n",
    "\n",
    "This notebooks is only used to test code and functions."
   ]
  },
  {
   "cell_type": "code",
   "execution_count": 8,
   "metadata": {},
   "outputs": [
    {
     "name": "stdout",
     "output_type": "stream",
     "text": [
      "The autoreload extension is already loaded. To reload it, use:\n",
      "  %reload_ext autoreload\n"
     ]
    }
   ],
   "source": [
    "%load_ext autoreload\n",
    "%autoreload 2\n",
    "import os\n",
    "import sys\n",
    "sys.path.insert(0, os.path.abspath('..'))"
   ]
  },
  {
   "cell_type": "code",
   "execution_count": 9,
   "metadata": {
    "collapsed": true
   },
   "outputs": [],
   "source": [
    "import sqlalchemy as sa\n",
    "from settings import session_scope\n",
    "from data_model.creates import CreateFirm, CreateFund\n",
    "from data_model.updates import UpdateFund\n",
    "from data_model.tables import Firm, Fund"
   ]
  },
  {
   "cell_type": "markdown",
   "metadata": {},
   "source": [
    "## COBAS"
   ]
  },
  {
   "cell_type": "code",
   "execution_count": null,
   "metadata": {
    "collapsed": true
   },
   "outputs": [],
   "source": [
    "cobas_fund = [{'name': 'Cobas Selección FI', 'firm_id': 6, 'isin_code': 'ES0124037005', 'id': 4},\n",
    "             {'name': 'Cobas Internacional FI', 'firm_id': 6, 'isin_code': 'ES0119199000', 'id': 5},\n",
    "             {'name': 'Cobas Iberia FI', 'firm_id': 6, 'isin_code': 'ES0119184002', 'id': 6},\n",
    "             {'name': 'Cobas Grandes Compañías FI', 'firm_id': 6, 'isin_code': 'ES0113728002', 'id': 7}]"
   ]
  },
  {
   "cell_type": "code",
   "execution_count": null,
   "metadata": {},
   "outputs": [],
   "source": [
    "cobas_update = UpdateFund({}, cobas_fund)"
   ]
  },
  {
   "cell_type": "code",
   "execution_count": null,
   "metadata": {
    "scrolled": true
   },
   "outputs": [],
   "source": [
    "cobas_update.update_element()"
   ]
  },
  {
   "cell_type": "code",
   "execution_count": null,
   "metadata": {
    "collapsed": true
   },
   "outputs": [],
   "source": [
    "cobas_update.sqlalchemy_class.id"
   ]
  },
  {
   "cell_type": "markdown",
   "metadata": {},
   "source": [
    "## Bestinver"
   ]
  },
  {
   "cell_type": "code",
   "execution_count": 10,
   "metadata": {
    "collapsed": true
   },
   "outputs": [],
   "source": [
    "bestinver_funds = [\n",
    "    {'name': 'Bestinfond FI', 'firm_id': 1, 'isin_code': 'ES0114673033', 'id': 8}\n",
    "    ,{'name': 'Bestinver Internacional FI', 'firm_id': 1, 'isin_code': 'ES0114638036', 'id': 9}\n",
    "    ,{'name': 'Bestinver Bolsa FI', 'firm_id': 1, 'isin_code': 'ES0147622031', 'id': 10}\n",
    "    ,{'name': 'Bestinver Grandes Compañías FI', 'firm_id': 1, 'isin_code': 'ES0114561006', 'id': 11}\n",
    "]"
   ]
  },
  {
   "cell_type": "code",
   "execution_count": null,
   "metadata": {
    "collapsed": true
   },
   "outputs": [],
   "source": [
    "bestinver_update = UpdateFund({}, bestinver_funds)"
   ]
  },
  {
   "cell_type": "code",
   "execution_count": null,
   "metadata": {
    "collapsed": true
   },
   "outputs": [],
   "source": [
    "bestinver_update.update_elements_list()"
   ]
  },
  {
   "cell_type": "code",
   "execution_count": 20,
   "metadata": {
    "collapsed": true
   },
   "outputs": [],
   "source": [
    "fund = CreateFund({}, [{'hola': 1}])"
   ]
  },
  {
   "cell_type": "code",
   "execution_count": 21,
   "metadata": {},
   "outputs": [
    {
     "ename": "AssertionError",
     "evalue": "",
     "output_type": "error",
     "traceback": [
      "\u001b[0;31m---------------------------------------------------------------------------\u001b[0m",
      "\u001b[0;31mAssertionError\u001b[0m                            Traceback (most recent call last)",
      "\u001b[0;32m<ipython-input-21-50e800ea5bfb>\u001b[0m in \u001b[0;36m<module>\u001b[0;34m()\u001b[0m\n\u001b[0;32m----> 1\u001b[0;31m \u001b[0mfund\u001b[0m\u001b[0;34m.\u001b[0m\u001b[0mcreate_elements_list\u001b[0m\u001b[0;34m(\u001b[0m\u001b[0;34m)\u001b[0m\u001b[0;34m\u001b[0m\u001b[0m\n\u001b[0m",
      "\u001b[0;32m~/Desktop/edu/Proyectos/Fondos/fund_app/data_model/creates.py\u001b[0m in \u001b[0;36mcreate_elements_list\u001b[0;34m(self)\u001b[0m\n\u001b[1;32m     34\u001b[0m         \"\"\"Insert list of elements in table.\n\u001b[1;32m     35\u001b[0m         \"\"\"\n\u001b[0;32m---> 36\u001b[0;31m         \u001b[0mself\u001b[0m\u001b[0;34m.\u001b[0m\u001b[0mcheck_list_content\u001b[0m\u001b[0;34m(\u001b[0m\u001b[0;34m)\u001b[0m\u001b[0;34m\u001b[0m\u001b[0m\n\u001b[0m\u001b[1;32m     37\u001b[0m         \u001b[0;32mwith\u001b[0m \u001b[0msession_scope\u001b[0m\u001b[0;34m(\u001b[0m\u001b[0;34m)\u001b[0m \u001b[0;32mas\u001b[0m \u001b[0ms\u001b[0m\u001b[0;34m:\u001b[0m\u001b[0;34m\u001b[0m\u001b[0m\n\u001b[1;32m     38\u001b[0m             \u001b[0;32mfor\u001b[0m \u001b[0me\u001b[0m \u001b[0;32min\u001b[0m \u001b[0mself\u001b[0m\u001b[0;34m.\u001b[0m\u001b[0melement_list\u001b[0m\u001b[0;34m:\u001b[0m\u001b[0;34m\u001b[0m\u001b[0m\n",
      "\u001b[0;32m~/Desktop/edu/Proyectos/Fondos/fund_app/data_model/creates.py\u001b[0m in \u001b[0;36mcheck_list_content\u001b[0;34m(self)\u001b[0m\n\u001b[1;32m     21\u001b[0m     \u001b[0;32mdef\u001b[0m \u001b[0mcheck_list_content\u001b[0m\u001b[0;34m(\u001b[0m\u001b[0mself\u001b[0m\u001b[0;34m)\u001b[0m\u001b[0;34m:\u001b[0m\u001b[0;34m\u001b[0m\u001b[0m\n\u001b[1;32m     22\u001b[0m         \u001b[0;32mfor\u001b[0m \u001b[0me\u001b[0m \u001b[0;32min\u001b[0m \u001b[0mself\u001b[0m\u001b[0;34m.\u001b[0m\u001b[0melement_list\u001b[0m\u001b[0;34m:\u001b[0m\u001b[0;34m\u001b[0m\u001b[0m\n\u001b[0;32m---> 23\u001b[0;31m             \u001b[0;32massert\u001b[0m \u001b[0mset\u001b[0m\u001b[0;34m(\u001b[0m\u001b[0mself\u001b[0m\u001b[0;34m.\u001b[0m\u001b[0mmandatory_content\u001b[0m\u001b[0;34m)\u001b[0m\u001b[0;34m.\u001b[0m\u001b[0missubset\u001b[0m\u001b[0;34m(\u001b[0m\u001b[0mset\u001b[0m\u001b[0;34m(\u001b[0m\u001b[0me\u001b[0m\u001b[0;34m.\u001b[0m\u001b[0mkeys\u001b[0m\u001b[0;34m(\u001b[0m\u001b[0;34m)\u001b[0m\u001b[0;34m)\u001b[0m\u001b[0;34m)\u001b[0m\u001b[0;34m\u001b[0m\u001b[0m\n\u001b[0m\u001b[1;32m     24\u001b[0m \u001b[0;34m\u001b[0m\u001b[0m\n\u001b[1;32m     25\u001b[0m     \u001b[0;32mdef\u001b[0m \u001b[0mcreate_element\u001b[0m\u001b[0;34m(\u001b[0m\u001b[0mself\u001b[0m\u001b[0;34m)\u001b[0m\u001b[0;34m:\u001b[0m\u001b[0;34m\u001b[0m\u001b[0m\n",
      "\u001b[0;31mAssertionError\u001b[0m: "
     ]
    }
   ],
   "source": [
    "fund.create_elements_list()"
   ]
  },
  {
   "cell_type": "markdown",
   "metadata": {},
   "source": [
    "## AZ Valor"
   ]
  },
  {
   "cell_type": "code",
   "execution_count": null,
   "metadata": {
    "collapsed": true
   },
   "outputs": [],
   "source": [
    "az_valor_funds = [\n",
    "      {'name': 'AZValor Iberia FI', 'firm_id': 5, 'isin_code': 'ES0112616000', 'id': 2}\n",
    "    ,{'name': 'AZValor Internacional FI', 'firm_id': 5, 'isin_code': 'ES0112611001', 'id': 1}\n",
    "    ,{'name': 'AZValor Blue Chips FI', 'firm_id': 5, 'isin_code': 'ES0112609005', 'id': 3}\n",
    "]"
   ]
  },
  {
   "cell_type": "code",
   "execution_count": null,
   "metadata": {
    "collapsed": true
   },
   "outputs": [],
   "source": [
    "azvalor_update = UpdateFund({}, az_valor_funds)"
   ]
  },
  {
   "cell_type": "code",
   "execution_count": null,
   "metadata": {
    "collapsed": true
   },
   "outputs": [],
   "source": [
    "azvalor_update.update_elements_list()"
   ]
  },
  {
   "cell_type": "code",
   "execution_count": 19,
   "metadata": {},
   "outputs": [
    {
     "name": "stdout",
     "output_type": "stream",
     "text": [
      "<Fund(id: 7; name: Cobas Grandes Compañías FI; firm_id 6>\n",
      "<Fund(id: 4; name: Cobas Selección FI; firm_id 6>\n",
      "<Fund(id: 5; name: Cobas Internacional FI; firm_id 6>\n",
      "<Fund(id: 6; name: Cobas Iberia FI; firm_id 6>\n",
      "<Fund(id: 8; name: Bestinfond FI; firm_id 1>\n",
      "<Fund(id: 9; name: Bestinver Internacional FI; firm_id 1>\n",
      "<Fund(id: 10; name: Bestinver Bolsa FI; firm_id 1>\n",
      "<Fund(id: 11; name: Bestinver Grandes Compañías FI; firm_id 1>\n",
      "<Fund(id: 2; name: AZValor Iberia FI; firm_id 5>\n",
      "<Fund(id: 1; name: AZValor Internacional FI; firm_id 5>\n",
      "<Fund(id: 3; name: AZValor Blue Chips FI; firm_id 5>\n"
     ]
    }
   ],
   "source": [
    "with session_scope() as s:\n",
    "    q = s.query(Fund).all()\n",
    "    for f in q:\n",
    "        print(f)"
   ]
  },
  {
   "cell_type": "code",
   "execution_count": null,
   "metadata": {
    "collapsed": true,
    "scrolled": true
   },
   "outputs": [],
   "source": [
    "with session_scope() as s:\n",
    "    q = s.query(Firm).filter(Firm.name=='AZ Valor').one()\n",
    "    print(q.id)"
   ]
  },
  {
   "cell_type": "code",
   "execution_count": null,
   "metadata": {
    "collapsed": true
   },
   "outputs": [],
   "source": [
    "with session_scope() as s:\n",
    "    q = s.query(Fund).filter(Fund.id==1).one()\n",
    "    \n",
    "    #q.name = 'AZ Valor Internacional FI'"
   ]
  }
 ],
 "metadata": {
  "kernelspec": {
   "display_name": "Python 3",
   "language": "python",
   "name": "python3"
  },
  "language_info": {
   "codemirror_mode": {
    "name": "ipython",
    "version": 3
   },
   "file_extension": ".py",
   "mimetype": "text/x-python",
   "name": "python",
   "nbconvert_exporter": "python",
   "pygments_lexer": "ipython3",
   "version": "3.5.0"
  }
 },
 "nbformat": 4,
 "nbformat_minor": 2
}
