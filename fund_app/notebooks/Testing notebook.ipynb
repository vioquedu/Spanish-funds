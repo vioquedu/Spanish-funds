{
 "cells": [
  {
   "cell_type": "markdown",
   "metadata": {},
   "source": [
    "# Testing notebook\n",
    "\n",
    "This notebooks is only used to test code and functions."
   ]
  },
  {
   "cell_type": "code",
   "execution_count": 4,
   "metadata": {},
   "outputs": [
    {
     "name": "stdout",
     "output_type": "stream",
     "text": [
      "The autoreload extension is already loaded. To reload it, use:\n",
      "  %reload_ext autoreload\n"
     ]
    }
   ],
   "source": [
    "%load_ext autoreload\n",
    "%autoreload 2\n",
    "import os\n",
    "import sys\n",
    "sys.path.insert(0, os.path.abspath('..'))"
   ]
  },
  {
   "cell_type": "code",
   "execution_count": 12,
   "metadata": {
    "collapsed": true
   },
   "outputs": [],
   "source": [
    "import sqlalchemy as sa\n",
    "from settings import session_scope\n",
    "from data_model.creates import CreateFirm, CreateFund\n",
    "from data_model.updates import UpdateFund\n",
    "from data_model.tables import Firm, Fund"
   ]
  },
  {
   "cell_type": "code",
   "execution_count": 5,
   "metadata": {
    "collapsed": true
   },
   "outputs": [],
   "source": [
    "from scraper.xbrl_scraper import XBRLScraper"
   ]
  },
  {
   "cell_type": "code",
   "execution_count": 8,
   "metadata": {},
   "outputs": [],
   "source": [
    "scraper = XBRLScraper('../data/az_valor_iberia_H1_17.XML')"
   ]
  },
  {
   "cell_type": "code",
   "execution_count": 11,
   "metadata": {},
   "outputs": [
    {
     "data": {
      "text/plain": [
       "([{'isin': 'ES0117160111', 'name': 'CORP FINAN ALBA'},\n",
       "  {'isin': 'ES0116920333', 'name': 'CATALANA OCCIDENTE'},\n",
       "  {'isin': 'ES0176252718', 'name': 'MELIA HOTELS INTERNATIONAL SA'},\n",
       "  {'isin': 'ES0115056139', 'name': 'BOLSAS Y MERCADOS ESPAÑOLES SA'},\n",
       "  {'isin': 'ES0161560018', 'name': 'NH HOTELES'},\n",
       "  {'isin': 'ES0110047919', 'name': 'DEOLEO SA'},\n",
       "  {'isin': 'ES0184262212', 'name': 'VISCOFAN SA'},\n",
       "  {'isin': 'ES0132945017', 'name': 'TUBACEX'},\n",
       "  {'isin': 'ES0164180012', 'name': 'MIQUEL Y COSTAS'},\n",
       "  {'isin': 'ES0157097017', 'name': 'LABORATORIOS ALMIRALL'},\n",
       "  {'isin': 'ES0124244E34', 'name': 'FUNDACION MAPFRE'},\n",
       "  {'isin': 'ES0132105018', 'name': 'ACERINOX SA'},\n",
       "  {'isin': 'ES0184933812', 'name': 'ZARDOYA'},\n",
       "  {'isin': 'ES0184696013', 'name': 'MA SMOVIL IBERCOM SAOM SA'},\n",
       "  {'isin': 'ES0105019006', 'name': 'HISPANIA ACTIVOS INMOBILIARIOS'},\n",
       "  {'isin': 'ES0105022000', 'name': 'APPLUS'},\n",
       "  {'isin': 'ES0105026001', 'name': 'AXIARE PATRIMONIO SOCIMI SA'},\n",
       "  {'isin': 'ES0178165017', 'name': 'TECNICAS REUNIDAS SA'},\n",
       "  {'isin': 'ES0139140174', 'name': 'INMOBILIARIA COLONIAL SA'},\n",
       "  {'isin': 'ES0129743318', 'name': 'ELECNOR SA'},\n",
       "  {'isin': 'ES0111845014', 'name': 'ABERTIS INFRAESTRUCTURAS SA'},\n",
       "  {'isin': 'ES0178430E18', 'name': 'TELEFONICA SA'},\n",
       "  {'isin': 'ES0157261019', 'name': 'ROVI'}],\n",
       " [{'bop_pct': '0.70',\n",
       "   'bop_value': '782527.00',\n",
       "   'company_isin': 'ES0117160111',\n",
       "   'eop_pct': '0.00',\n",
       "   'eop_value': '5290.00',\n",
       "   'fund_submission_id': 'TODO'},\n",
       "  {'bop_pct': '1.63',\n",
       "   'bop_value': '1815673.00',\n",
       "   'company_isin': 'ES0116920333',\n",
       "   'eop_pct': '2.88',\n",
       "   'eop_value': '4166394.00',\n",
       "   'fund_submission_id': 'TODO'},\n",
       "  {'bop_pct': '0.00',\n",
       "   'bop_value': '0.00',\n",
       "   'company_isin': 'ES0176252718',\n",
       "   'eop_pct': '2.47',\n",
       "   'eop_value': '3567483.00',\n",
       "   'fund_submission_id': 'TODO'},\n",
       "  {'bop_pct': '1.08',\n",
       "   'bop_value': '1198074.00',\n",
       "   'company_isin': 'ES0115056139',\n",
       "   'eop_pct': '0.00',\n",
       "   'eop_value': '3162.00',\n",
       "   'fund_submission_id': 'TODO'},\n",
       "  {'bop_pct': '1.97',\n",
       "   'bop_value': '2200390.00',\n",
       "   'company_isin': 'ES0161560018',\n",
       "   'eop_pct': '2.55',\n",
       "   'eop_value': '3680679.00',\n",
       "   'fund_submission_id': 'TODO'},\n",
       "  {'bop_pct': '0.61',\n",
       "   'bop_value': '675233.00',\n",
       "   'company_isin': 'ES0110047919',\n",
       "   'eop_pct': '0.40',\n",
       "   'eop_value': '584867.00',\n",
       "   'fund_submission_id': 'TODO'},\n",
       "  {'bop_pct': '3.58',\n",
       "   'bop_value': '3989278.00',\n",
       "   'company_isin': 'ES0184262212',\n",
       "   'eop_pct': '1.42',\n",
       "   'eop_value': '2048845.00',\n",
       "   'fund_submission_id': 'TODO'},\n",
       "  {'bop_pct': '4.68',\n",
       "   'bop_value': '5216012.00',\n",
       "   'company_isin': 'ES0132945017',\n",
       "   'eop_pct': '8.23',\n",
       "   'eop_value': '11888008.00',\n",
       "   'fund_submission_id': 'TODO'},\n",
       "  {'bop_pct': '1.70',\n",
       "   'bop_value': '1893944.00',\n",
       "   'company_isin': 'ES0164180012',\n",
       "   'eop_pct': '3.00',\n",
       "   'eop_value': '4338688.00',\n",
       "   'fund_submission_id': 'TODO'},\n",
       "  {'bop_pct': '0.20',\n",
       "   'bop_value': '223156.00',\n",
       "   'company_isin': 'ES0157097017',\n",
       "   'eop_pct': '0.00',\n",
       "   'eop_value': '1426.00',\n",
       "   'fund_submission_id': 'TODO'},\n",
       "  {'bop_pct': '0.23',\n",
       "   'bop_value': '258312.00',\n",
       "   'company_isin': 'ES0124244E34',\n",
       "   'eop_pct': '0.00',\n",
       "   'eop_value': '306.00',\n",
       "   'fund_submission_id': 'TODO'},\n",
       "  {'bop_pct': '1.10',\n",
       "   'bop_value': '1220265.00',\n",
       "   'company_isin': 'ES0132105018',\n",
       "   'eop_pct': '0.27',\n",
       "   'eop_value': '390843.00',\n",
       "   'fund_submission_id': 'TODO'},\n",
       "  {'bop_pct': '0.00',\n",
       "   'bop_value': '0.00',\n",
       "   'company_isin': 'ES0184933812',\n",
       "   'eop_pct': '3.45',\n",
       "   'eop_value': '4979766.00',\n",
       "   'fund_submission_id': 'TODO'},\n",
       "  {'bop_pct': '0.00',\n",
       "   'bop_value': '0.00',\n",
       "   'company_isin': 'ES0184696013',\n",
       "   'eop_pct': '4.29',\n",
       "   'eop_value': '6200889.00',\n",
       "   'fund_submission_id': 'TODO'},\n",
       "  {'bop_pct': '1.34',\n",
       "   'bop_value': '1494488.00',\n",
       "   'company_isin': 'ES0105019006',\n",
       "   'eop_pct': '0.00',\n",
       "   'eop_value': '1448.00',\n",
       "   'fund_submission_id': 'TODO'},\n",
       "  {'bop_pct': '0.76',\n",
       "   'bop_value': '844008.00',\n",
       "   'company_isin': 'ES0105022000',\n",
       "   'eop_pct': '0.00',\n",
       "   'eop_value': '1102.00',\n",
       "   'fund_submission_id': 'TODO'},\n",
       "  {'bop_pct': '1.82',\n",
       "   'bop_value': '2024616.00',\n",
       "   'company_isin': 'ES0105026001',\n",
       "   'eop_pct': '0.00',\n",
       "   'eop_value': '1496.00',\n",
       "   'fund_submission_id': 'TODO'},\n",
       "  {'bop_pct': '0.28',\n",
       "   'bop_value': '314058.00',\n",
       "   'company_isin': 'ES0178165017',\n",
       "   'eop_pct': '3.64',\n",
       "   'eop_value': '5253613.00',\n",
       "   'fund_submission_id': 'TODO'},\n",
       "  {'bop_pct': '1.74',\n",
       "   'bop_value': '1943124.00',\n",
       "   'company_isin': 'ES0139140174',\n",
       "   'eop_pct': '0.00',\n",
       "   'eop_value': '763.00',\n",
       "   'fund_submission_id': 'TODO'},\n",
       "  {'bop_pct': '4.58',\n",
       "   'bop_value': '5103675.00',\n",
       "   'company_isin': 'ES0129743318',\n",
       "   'eop_pct': '6.72',\n",
       "   'eop_value': '9714255.00',\n",
       "   'fund_submission_id': 'TODO'},\n",
       "  {'bop_pct': '0.76',\n",
       "   'bop_value': '842624.00',\n",
       "   'company_isin': 'ES0111845014',\n",
       "   'eop_pct': '0.00',\n",
       "   'eop_value': '0.00',\n",
       "   'fund_submission_id': 'TODO'},\n",
       "  {'bop_pct': '5.75',\n",
       "   'bop_value': '6410764.00',\n",
       "   'company_isin': 'ES0178430E18',\n",
       "   'eop_pct': '1.93',\n",
       "   'eop_value': '2787744.00',\n",
       "   'fund_submission_id': 'TODO'},\n",
       "  {'bop_pct': '0.49',\n",
       "   'bop_value': '550239.00',\n",
       "   'company_isin': 'ES0157261019',\n",
       "   'eop_pct': '0.00',\n",
       "   'eop_value': '1707.00',\n",
       "   'fund_submission_id': 'TODO'}])"
      ]
     },
     "execution_count": 11,
     "metadata": {},
     "output_type": "execute_result"
    }
   ],
   "source": [
    "scraper.get_companies_info()\n"
   ]
  },
  {
   "cell_type": "markdown",
   "metadata": {},
   "source": [
    "## COBAS"
   ]
  },
  {
   "cell_type": "code",
   "execution_count": null,
   "metadata": {
    "collapsed": true
   },
   "outputs": [],
   "source": [
    "cobas_fund = [{'name': 'Cobas Selección FI', 'firm_id': 6, 'isin_code': 'ES0124037005', 'id': 4},\n",
    "             {'name': 'Cobas Internacional FI', 'firm_id': 6, 'isin_code': 'ES0119199000', 'id': 5},\n",
    "             {'name': 'Cobas Iberia FI', 'firm_id': 6, 'isin_code': 'ES0119184002', 'id': 6},\n",
    "             {'name': 'Cobas Grandes Compañías FI', 'firm_id': 6, 'isin_code': 'ES0113728002', 'id': 7}]"
   ]
  },
  {
   "cell_type": "code",
   "execution_count": null,
   "metadata": {
    "collapsed": true
   },
   "outputs": [],
   "source": [
    "cobas_update = UpdateFund({}, cobas_fund)"
   ]
  },
  {
   "cell_type": "code",
   "execution_count": null,
   "metadata": {
    "collapsed": true,
    "scrolled": true
   },
   "outputs": [],
   "source": [
    "cobas_update.update_element()"
   ]
  },
  {
   "cell_type": "code",
   "execution_count": null,
   "metadata": {
    "collapsed": true
   },
   "outputs": [],
   "source": [
    "cobas_update.sqlalchemy_class.id"
   ]
  },
  {
   "cell_type": "markdown",
   "metadata": {},
   "source": [
    "## Bestinver"
   ]
  },
  {
   "cell_type": "code",
   "execution_count": 10,
   "metadata": {
    "collapsed": true
   },
   "outputs": [],
   "source": [
    "bestinver_funds = [\n",
    "    {'name': 'Bestinfond FI', 'firm_id': 1, 'isin_code': 'ES0114673033', 'id': 8}\n",
    "    ,{'name': 'Bestinver Internacional FI', 'firm_id': 1, 'isin_code': 'ES0114638036', 'id': 9}\n",
    "    ,{'name': 'Bestinver Bolsa FI', 'firm_id': 1, 'isin_code': 'ES0147622031', 'id': 10}\n",
    "    ,{'name': 'Bestinver Grandes Compañías FI', 'firm_id': 1, 'isin_code': 'ES0114561006', 'id': 11}\n",
    "]"
   ]
  },
  {
   "cell_type": "code",
   "execution_count": null,
   "metadata": {
    "collapsed": true
   },
   "outputs": [],
   "source": [
    "bestinver_update = UpdateFund({}, bestinver_funds)"
   ]
  },
  {
   "cell_type": "code",
   "execution_count": null,
   "metadata": {
    "collapsed": true
   },
   "outputs": [],
   "source": [
    "bestinver_update.update_elements_list()"
   ]
  },
  {
   "cell_type": "code",
   "execution_count": 20,
   "metadata": {
    "collapsed": true
   },
   "outputs": [],
   "source": [
    "fund = CreateFund({}, [{'hola': 1}])"
   ]
  },
  {
   "cell_type": "code",
   "execution_count": 21,
   "metadata": {},
   "outputs": [
    {
     "ename": "AssertionError",
     "evalue": "",
     "output_type": "error",
     "traceback": [
      "\u001b[0;31m---------------------------------------------------------------------------\u001b[0m",
      "\u001b[0;31mAssertionError\u001b[0m                            Traceback (most recent call last)",
      "\u001b[0;32m<ipython-input-21-50e800ea5bfb>\u001b[0m in \u001b[0;36m<module>\u001b[0;34m()\u001b[0m\n\u001b[0;32m----> 1\u001b[0;31m \u001b[0mfund\u001b[0m\u001b[0;34m.\u001b[0m\u001b[0mcreate_elements_list\u001b[0m\u001b[0;34m(\u001b[0m\u001b[0;34m)\u001b[0m\u001b[0;34m\u001b[0m\u001b[0m\n\u001b[0m",
      "\u001b[0;32m~/Desktop/edu/Proyectos/Fondos/fund_app/data_model/creates.py\u001b[0m in \u001b[0;36mcreate_elements_list\u001b[0;34m(self)\u001b[0m\n\u001b[1;32m     34\u001b[0m         \"\"\"Insert list of elements in table.\n\u001b[1;32m     35\u001b[0m         \"\"\"\n\u001b[0;32m---> 36\u001b[0;31m         \u001b[0mself\u001b[0m\u001b[0;34m.\u001b[0m\u001b[0mcheck_list_content\u001b[0m\u001b[0;34m(\u001b[0m\u001b[0;34m)\u001b[0m\u001b[0;34m\u001b[0m\u001b[0m\n\u001b[0m\u001b[1;32m     37\u001b[0m         \u001b[0;32mwith\u001b[0m \u001b[0msession_scope\u001b[0m\u001b[0;34m(\u001b[0m\u001b[0;34m)\u001b[0m \u001b[0;32mas\u001b[0m \u001b[0ms\u001b[0m\u001b[0;34m:\u001b[0m\u001b[0;34m\u001b[0m\u001b[0m\n\u001b[1;32m     38\u001b[0m             \u001b[0;32mfor\u001b[0m \u001b[0me\u001b[0m \u001b[0;32min\u001b[0m \u001b[0mself\u001b[0m\u001b[0;34m.\u001b[0m\u001b[0melement_list\u001b[0m\u001b[0;34m:\u001b[0m\u001b[0;34m\u001b[0m\u001b[0m\n",
      "\u001b[0;32m~/Desktop/edu/Proyectos/Fondos/fund_app/data_model/creates.py\u001b[0m in \u001b[0;36mcheck_list_content\u001b[0;34m(self)\u001b[0m\n\u001b[1;32m     21\u001b[0m     \u001b[0;32mdef\u001b[0m \u001b[0mcheck_list_content\u001b[0m\u001b[0;34m(\u001b[0m\u001b[0mself\u001b[0m\u001b[0;34m)\u001b[0m\u001b[0;34m:\u001b[0m\u001b[0;34m\u001b[0m\u001b[0m\n\u001b[1;32m     22\u001b[0m         \u001b[0;32mfor\u001b[0m \u001b[0me\u001b[0m \u001b[0;32min\u001b[0m \u001b[0mself\u001b[0m\u001b[0;34m.\u001b[0m\u001b[0melement_list\u001b[0m\u001b[0;34m:\u001b[0m\u001b[0;34m\u001b[0m\u001b[0m\n\u001b[0;32m---> 23\u001b[0;31m             \u001b[0;32massert\u001b[0m \u001b[0mset\u001b[0m\u001b[0;34m(\u001b[0m\u001b[0mself\u001b[0m\u001b[0;34m.\u001b[0m\u001b[0mmandatory_content\u001b[0m\u001b[0;34m)\u001b[0m\u001b[0;34m.\u001b[0m\u001b[0missubset\u001b[0m\u001b[0;34m(\u001b[0m\u001b[0mset\u001b[0m\u001b[0;34m(\u001b[0m\u001b[0me\u001b[0m\u001b[0;34m.\u001b[0m\u001b[0mkeys\u001b[0m\u001b[0;34m(\u001b[0m\u001b[0;34m)\u001b[0m\u001b[0;34m)\u001b[0m\u001b[0;34m)\u001b[0m\u001b[0;34m\u001b[0m\u001b[0m\n\u001b[0m\u001b[1;32m     24\u001b[0m \u001b[0;34m\u001b[0m\u001b[0m\n\u001b[1;32m     25\u001b[0m     \u001b[0;32mdef\u001b[0m \u001b[0mcreate_element\u001b[0m\u001b[0;34m(\u001b[0m\u001b[0mself\u001b[0m\u001b[0;34m)\u001b[0m\u001b[0;34m:\u001b[0m\u001b[0;34m\u001b[0m\u001b[0m\n",
      "\u001b[0;31mAssertionError\u001b[0m: "
     ]
    }
   ],
   "source": [
    "fund.create_elements_list()"
   ]
  },
  {
   "cell_type": "markdown",
   "metadata": {},
   "source": [
    "## AZ Valor"
   ]
  },
  {
   "cell_type": "code",
   "execution_count": null,
   "metadata": {
    "collapsed": true
   },
   "outputs": [],
   "source": [
    "az_valor_funds = [\n",
    "      {'name': 'AZValor Iberia FI', 'firm_id': 5, 'isin_code': 'ES0112616000', 'id': 2}\n",
    "    ,{'name': 'AZValor Internacional FI', 'firm_id': 5, 'isin_code': 'ES0112611001', 'id': 1}\n",
    "    ,{'name': 'AZValor Blue Chips FI', 'firm_id': 5, 'isin_code': 'ES0112609005', 'id': 3}\n",
    "]"
   ]
  },
  {
   "cell_type": "code",
   "execution_count": null,
   "metadata": {
    "collapsed": true
   },
   "outputs": [],
   "source": [
    "azvalor_update = UpdateFund({}, az_valor_funds)"
   ]
  },
  {
   "cell_type": "code",
   "execution_count": null,
   "metadata": {
    "collapsed": true
   },
   "outputs": [],
   "source": [
    "azvalor_update.update_elements_list()"
   ]
  },
  {
   "cell_type": "code",
   "execution_count": 15,
   "metadata": {},
   "outputs": [
    {
     "name": "stdout",
     "output_type": "stream",
     "text": [
      "ES0113728002 Cobas Grandes Compañías FI\n",
      "ES0124037005 Cobas Selección FI\n",
      "ES0119199000 Cobas Internacional FI\n",
      "ES0119184002 Cobas Iberia FI\n",
      "ES0114673033 Bestinfond FI\n",
      "ES0114638036 Bestinver Internacional FI\n",
      "ES0147622031 Bestinver Bolsa FI\n",
      "ES0114561006 Bestinver Grandes Compañías FI\n",
      "ES0112616000 AZValor Iberia FI\n",
      "ES0112611001 AZValor Internacional FI\n",
      "ES0112609005 AZValor Blue Chips FI\n"
     ]
    }
   ],
   "source": [
    "with session_scope() as s:\n",
    "    q = s.query(Fund).all()\n",
    "    for f in q:\n",
    "        print(f.isin_code, f.name)"
   ]
  },
  {
   "cell_type": "code",
   "execution_count": null,
   "metadata": {
    "collapsed": true,
    "scrolled": true
   },
   "outputs": [],
   "source": [
    "with session_scope() as s:\n",
    "    q = s.query(Firm).filter(Firm.name=='AZ Valor').one()\n",
    "    print(q.id)"
   ]
  },
  {
   "cell_type": "code",
   "execution_count": null,
   "metadata": {
    "collapsed": true
   },
   "outputs": [],
   "source": [
    "with session_scope() as s:\n",
    "    q = s.query(Fund).filter(Fund.id==1).one()\n",
    "    \n",
    "    #q.name = 'AZ Valor Internacional FI'"
   ]
  }
 ],
 "metadata": {
  "kernelspec": {
   "display_name": "Python 3",
   "language": "python",
   "name": "python3"
  },
  "language_info": {
   "codemirror_mode": {
    "name": "ipython",
    "version": 3
   },
   "file_extension": ".py",
   "mimetype": "text/x-python",
   "name": "python",
   "nbconvert_exporter": "python",
   "pygments_lexer": "ipython3",
   "version": "3.5.0"
  }
 },
 "nbformat": 4,
 "nbformat_minor": 2
}
