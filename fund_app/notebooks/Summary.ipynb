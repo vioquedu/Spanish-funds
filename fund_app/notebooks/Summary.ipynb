{
 "cells": [
  {
   "cell_type": "markdown",
   "metadata": {},
   "source": [
    "# Summary notebook\n",
    "\n",
    "The aim of this notebook is to provide sort of a summary of \n",
    "what has been collected and stored in database at the moment\n",
    "\n",
    "## Table of contents\n",
    "\n",
    "* Libraries import\n",
    "* Assets management firms\n",
    "* Funds\n",
    "\n",
    "## Libraries import"
   ]
  },
  {
   "cell_type": "code",
   "execution_count": 18,
   "metadata": {},
   "outputs": [
    {
     "name": "stdout",
     "output_type": "stream",
     "text": [
      "The autoreload extension is already loaded. To reload it, use:\n",
      "  %reload_ext autoreload\n"
     ]
    }
   ],
   "source": [
    "%load_ext autoreload\n",
    "%autoreload 2\n",
    "import os\n",
    "import sys\n",
    "sys.path.insert(0, os.path.abspath('..'))"
   ]
  },
  {
   "cell_type": "code",
   "execution_count": 12,
   "metadata": {
    "collapsed": true
   },
   "outputs": [],
   "source": [
    "from settings import session_scope\n",
    "from data_model.tables import Firm, Fund\n",
    "import pandas as pd"
   ]
  },
  {
   "cell_type": "markdown",
   "metadata": {},
   "source": [
    "## Assets management firms\n",
    "\n",
    "We will display all available management firms"
   ]
  },
  {
   "cell_type": "code",
   "execution_count": 13,
   "metadata": {},
   "outputs": [
    {
     "data": {
      "text/html": [
       "<div>\n",
       "<style>\n",
       "    .dataframe thead tr:only-child th {\n",
       "        text-align: right;\n",
       "    }\n",
       "\n",
       "    .dataframe thead th {\n",
       "        text-align: left;\n",
       "    }\n",
       "\n",
       "    .dataframe tbody tr th {\n",
       "        vertical-align: top;\n",
       "    }\n",
       "</style>\n",
       "<table border=\"1\" class=\"dataframe\">\n",
       "  <thead>\n",
       "    <tr style=\"text-align: right;\">\n",
       "      <th></th>\n",
       "      <th>id</th>\n",
       "      <th>name</th>\n",
       "    </tr>\n",
       "  </thead>\n",
       "  <tbody>\n",
       "    <tr>\n",
       "      <th>0</th>\n",
       "      <td>1</td>\n",
       "      <td>Bestinver</td>\n",
       "    </tr>\n",
       "    <tr>\n",
       "      <th>1</th>\n",
       "      <td>5</td>\n",
       "      <td>AZ Valor</td>\n",
       "    </tr>\n",
       "    <tr>\n",
       "      <th>2</th>\n",
       "      <td>6</td>\n",
       "      <td>Cobas</td>\n",
       "    </tr>\n",
       "  </tbody>\n",
       "</table>\n",
       "</div>"
      ],
      "text/plain": [
       "   id       name\n",
       "0   1  Bestinver\n",
       "1   5   AZ Valor\n",
       "2   6      Cobas"
      ]
     },
     "execution_count": 13,
     "metadata": {},
     "output_type": "execute_result"
    }
   ],
   "source": [
    "with session_scope() as s:\n",
    "    q = s.query(Firm)\n",
    "    firms_df = pd.read_sql(q.statement, q.session.bind)\n",
    "    \n",
    "firms_df"
   ]
  },
  {
   "cell_type": "markdown",
   "metadata": {},
   "source": [
    "## Funds\n",
    "\n",
    "We will display for each firm the funds available"
   ]
  },
  {
   "cell_type": "code",
   "execution_count": 27,
   "metadata": {},
   "outputs": [
    {
     "data": {
      "text/html": [
       "<div>\n",
       "<style>\n",
       "    .dataframe thead tr:only-child th {\n",
       "        text-align: right;\n",
       "    }\n",
       "\n",
       "    .dataframe thead th {\n",
       "        text-align: left;\n",
       "    }\n",
       "\n",
       "    .dataframe tbody tr th {\n",
       "        vertical-align: top;\n",
       "    }\n",
       "</style>\n",
       "<table border=\"1\" class=\"dataframe\">\n",
       "  <thead>\n",
       "    <tr style=\"text-align: right;\">\n",
       "      <th></th>\n",
       "      <th>Firm name</th>\n",
       "      <th>Fund name</th>\n",
       "      <th>isin_code</th>\n",
       "      <th>id</th>\n",
       "    </tr>\n",
       "  </thead>\n",
       "  <tbody>\n",
       "    <tr>\n",
       "      <th>0</th>\n",
       "      <td>AZ Valor</td>\n",
       "      <td>AZValor Internacional FI</td>\n",
       "      <td>ES0112611001</td>\n",
       "      <td>1</td>\n",
       "    </tr>\n",
       "    <tr>\n",
       "      <th>1</th>\n",
       "      <td>AZ Valor</td>\n",
       "      <td>AZValor Iberia FI</td>\n",
       "      <td>ES0112616000</td>\n",
       "      <td>2</td>\n",
       "    </tr>\n",
       "    <tr>\n",
       "      <th>2</th>\n",
       "      <td>AZ Valor</td>\n",
       "      <td>AZValor Blue Chips FI</td>\n",
       "      <td>ES0112609005</td>\n",
       "      <td>3</td>\n",
       "    </tr>\n",
       "    <tr>\n",
       "      <th>3</th>\n",
       "      <td>Cobas</td>\n",
       "      <td>Cobas Selección FI</td>\n",
       "      <td>ES0124037005</td>\n",
       "      <td>4</td>\n",
       "    </tr>\n",
       "    <tr>\n",
       "      <th>4</th>\n",
       "      <td>Cobas</td>\n",
       "      <td>Cobas Internacional FI</td>\n",
       "      <td>ES0119199000</td>\n",
       "      <td>5</td>\n",
       "    </tr>\n",
       "    <tr>\n",
       "      <th>5</th>\n",
       "      <td>Cobas</td>\n",
       "      <td>Cobas Iberia FI</td>\n",
       "      <td>ES0119184002</td>\n",
       "      <td>6</td>\n",
       "    </tr>\n",
       "    <tr>\n",
       "      <th>6</th>\n",
       "      <td>Cobas</td>\n",
       "      <td>Cobas Grandes Compañías FI</td>\n",
       "      <td>ES0113728002</td>\n",
       "      <td>7</td>\n",
       "    </tr>\n",
       "    <tr>\n",
       "      <th>7</th>\n",
       "      <td>Bestinver</td>\n",
       "      <td>Bestinfond FI</td>\n",
       "      <td>ES0114673033</td>\n",
       "      <td>8</td>\n",
       "    </tr>\n",
       "    <tr>\n",
       "      <th>8</th>\n",
       "      <td>Bestinver</td>\n",
       "      <td>Bestinver Internacional FI</td>\n",
       "      <td>ES0114638036</td>\n",
       "      <td>9</td>\n",
       "    </tr>\n",
       "    <tr>\n",
       "      <th>9</th>\n",
       "      <td>Bestinver</td>\n",
       "      <td>Bestinver Bolsa FI</td>\n",
       "      <td>ES0147622031</td>\n",
       "      <td>10</td>\n",
       "    </tr>\n",
       "    <tr>\n",
       "      <th>10</th>\n",
       "      <td>Bestinver</td>\n",
       "      <td>Bestinver Grandes Compañías FI</td>\n",
       "      <td>ES0114561006</td>\n",
       "      <td>11</td>\n",
       "    </tr>\n",
       "  </tbody>\n",
       "</table>\n",
       "</div>"
      ],
      "text/plain": [
       "    Firm name                       Fund name     isin_code  id\n",
       "0    AZ Valor        AZValor Internacional FI  ES0112611001   1\n",
       "1    AZ Valor               AZValor Iberia FI  ES0112616000   2\n",
       "2    AZ Valor           AZValor Blue Chips FI  ES0112609005   3\n",
       "3       Cobas              Cobas Selección FI  ES0124037005   4\n",
       "4       Cobas          Cobas Internacional FI  ES0119199000   5\n",
       "5       Cobas                 Cobas Iberia FI  ES0119184002   6\n",
       "6       Cobas      Cobas Grandes Compañías FI  ES0113728002   7\n",
       "7   Bestinver                   Bestinfond FI  ES0114673033   8\n",
       "8   Bestinver      Bestinver Internacional FI  ES0114638036   9\n",
       "9   Bestinver              Bestinver Bolsa FI  ES0147622031  10\n",
       "10  Bestinver  Bestinver Grandes Compañías FI  ES0114561006  11"
      ]
     },
     "execution_count": 27,
     "metadata": {},
     "output_type": "execute_result"
    }
   ],
   "source": [
    "with session_scope() as s:\n",
    "    q = s.query(Firm.name.label('Firm name'), Fund.name.label('Fund name'), Fund.isin_code, Fund.id).join(Fund.firm).order_by(Fund.id)\n",
    "    funds_df = pd.read_sql(q.statement, q.session.bind)\n",
    "    \n",
    "funds_df"
   ]
  }
 ],
 "metadata": {
  "kernelspec": {
   "display_name": "Python 3",
   "language": "python",
   "name": "python3"
  },
  "language_info": {
   "codemirror_mode": {
    "name": "ipython",
    "version": 3
   },
   "file_extension": ".py",
   "mimetype": "text/x-python",
   "name": "python",
   "nbconvert_exporter": "python",
   "pygments_lexer": "ipython3",
   "version": "3.5.0"
  }
 },
 "nbformat": 4,
 "nbformat_minor": 2
}
